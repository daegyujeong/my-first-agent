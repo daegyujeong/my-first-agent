{
 "cells": [
  {
   "cell_type": "code",
   "execution_count": null,
   "id": "c9fb0362",
   "metadata": {},
   "outputs": [
    {
     "data": {
      "text/plain": [
       "\"get_weather('Greece')\""
      ]
     },
     "execution_count": 3,
     "metadata": {},
     "output_type": "execute_result"
    }
   ],
   "source": [
    "import openai\n",
    "\n",
    "client = openai.OpenAI()\n",
    "\n",
    "PROMPT = \"\"\"\n",
    "I have the following functions in my system.\n",
    "\n",
    "`get_weather`\n",
    "`get_currency`\n",
    "`get_news`\n",
    "\n",
    "All of them receive the name of a country as an argumet (i.e get_news('Spain'))\n",
    "\n",
    "Please answer with the name of the function that you would like me to run.\n",
    "\n",
    "Please say nothing else, just the name of the function with the arguments.\n",
    "\n",
    "Answer the following question:\n",
    "\n",
    "What is the weather in Greece?\n",
    "\"\"\"\n",
    "\n",
    "response = client.chat.completions.create(\n",
    "    model=\"gpt-4o-mini\",\n",
    "    # n=4,\n",
    "    messages=[{\"role\": \"user\", \"content\": PROMPT}],\n",
    ")\n",
    "\n",
    "response.choices[0].message.content"
   ]
  }
 ],
 "metadata": {
  "kernelspec": {
   "display_name": ".venv",
   "language": "python",
   "name": "python3"
  },
  "language_info": {
   "codemirror_mode": {
    "name": "ipython",
    "version": 3
   },
   "file_extension": ".py",
   "mimetype": "text/x-python",
   "name": "python",
   "nbconvert_exporter": "python",
   "pygments_lexer": "ipython3",
   "version": "3.11.6"
  }
 },
 "nbformat": 4,
 "nbformat_minor": 5
}
