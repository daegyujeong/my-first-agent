{
 "cells": [
  {
   "cell_type": "code",
   "execution_count": 1,
   "id": "c9fb0362",
   "metadata": {},
   "outputs": [],
   "source": [
    "import openai\n",
    "\n",
    "client = openai.OpenAI()\n",
    "messages = []\n",
    "\n"
   ]
  },
  {
   "cell_type": "code",
   "execution_count": 2,
   "id": "93a90320",
   "metadata": {},
   "outputs": [],
   "source": [
    "def call_ai_model(messages):\n",
    "    client = openai.OpenAI()\n",
    "    response = client.chat.completions.create(\n",
    "        model=\"gpt-4o-mini\",\n",
    "        messages=messages,\n",
    "    )\n",
    "    return response.choices[0].message.content"
   ]
  },
  {
   "cell_type": "code",
   "execution_count": 3,
   "id": "66180a24",
   "metadata": {},
   "outputs": [
    {
     "name": "stdout",
     "output_type": "stream",
     "text": [
      "User: my name is nico\n",
      "Nice to meet you, Nico! How can I assist you today?\n",
      "User: what is my name\n",
      "Your name is Nico. How can I help you today?\n",
      "User: quir\n",
      "It seems like you might be looking for a definition or context for the word \"quir.\" It could be a misspelling of \"quirk,\" which means a peculiar behavior or characteristic. If you meant something else or want to elaborate, please let me know!\n",
      "User: quit\n",
      "It looks like you might be expressing a desire to stop or end something. If you need help or support regarding a specific topic, or if you meant something else, feel free to elaborate!\n"
     ]
    }
   ],
   "source": [
    "while True:\n",
    "    user_input = input(\"You: \")\n",
    "    if user_input.lower() == \"exit\":\n",
    "        break\n",
    "    else:\n",
    "        messages.append({\"role\": \"user\", \"content\": user_input})\n",
    "        print(f\"User: {user_input}\")\n",
    "        response = call_ai_model(messages)\n",
    "        messages.append({\"role\": \"assistant\", \"content\": response})\n",
    "        print(response)"
   ]
  }
 ],
 "metadata": {
  "kernelspec": {
   "display_name": ".venv",
   "language": "python",
   "name": "python3"
  },
  "language_info": {
   "codemirror_mode": {
    "name": "ipython",
    "version": 3
   },
   "file_extension": ".py",
   "mimetype": "text/x-python",
   "name": "python",
   "nbconvert_exporter": "python",
   "pygments_lexer": "ipython3",
   "version": "3.11.6"
  }
 },
 "nbformat": 4,
 "nbformat_minor": 5
}
